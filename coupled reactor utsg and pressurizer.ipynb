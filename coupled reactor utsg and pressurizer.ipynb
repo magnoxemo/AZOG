{
 "cells": [
  {
   "cell_type": "code",
   "execution_count": 18,
   "metadata": {},
   "outputs": [],
   "source": [
    "from AZOG.reactor import Reactor_Core\n",
    "from AZOG.UTSG import u_tube_steam_generator\n",
    "from AZOG.pressurizer import Pressurizer\n",
    "from AZOG.logo import*\n",
    "import numpy as np \n",
    "import matplotlib.pyplot as plt\n",
    "from CoolProp.CoolProp import PropsSI\n",
    "from tqdm import tqdm"
   ]
  },
  {
   "cell_type": "code",
   "execution_count": 19,
   "metadata": {},
   "outputs": [
    {
     "name": "stdout",
     "output_type": "stream",
     "text": [
      "99999 99999 100000\n"
     ]
    }
   ],
   "source": [
    "reactor=Reactor_Core(TemperatureFuel=np.linspace(800,810,num=5)+273.16,TemperatureModerator=np.linspace(310,320,num=10)+273.16,Power=300e6,Precursor=2000,Pressure=15e6,Temp_hotleg=325+273.16,Temp_coldleg=300+273.16,Temp_lowerplenum=305+273.16,Temp_upplerplenum=322+273.16)\n",
    "pressurizer=Pressurizer(pressurizer_diameter=2,Pressure=1.5e7,Temp_coldleg=450)\n",
    "UTSG=u_tube_steam_generator(primary_coolant_inlet_temperature=reactor.Thl,primary_coolant_outlet_temperature=553,\n",
    "                            feed_water_inlet_temperature=496.70556,\n",
    "                            drum_water_temp=450,\n",
    "                            saturation_temp=544.817,\n",
    "                            down_comer_temp=535.76111,\n",
    "                            feed_water_flow_rate=1600,\n",
    "                            PrimaryLumpTemperature=np.array([reactor.Thl-2,reactor.Thl-17,reactor.Thl-25,reactor.Thl-29]),\n",
    "                            MetalLumpTemperature=np.array([reactor.Thl-20,reactor.Thl-37,reactor.Thl-45,reactor.Thl-49]),\n",
    "                            Reactor_Pressure=15e6,Steam_pressure=7e6)\n"
   ]
  },
  {
   "cell_type": "code",
   "execution_count": 20,
   "metadata": {},
   "outputs": [
    {
     "data": {
      "text/plain": [
       "2720.09386535244"
      ]
     },
     "execution_count": 20,
     "metadata": {},
     "output_type": "execute_result"
    }
   ],
   "source": [
    "reactor.total_delayed_const/(reactor.NGT*reactor.Lamda)\n"
   ]
  },
  {
   "cell_type": "code",
   "execution_count": 21,
   "metadata": {},
   "outputs": [
    {
     "data": {
      "text/plain": [
       "0"
      ]
     },
     "execution_count": 21,
     "metadata": {},
     "output_type": "execute_result"
    }
   ],
   "source": [
    "import xlsxwriter \n",
    "work_book1=xlsxwriter.Workbook('test_case_pressurizer.excel')\n",
    "data_sheet1=work_book1.add_worksheet(\"test\")\n",
    "\n",
    "row=0\n",
    "data_sheet1.write(0,0,'T')\n",
    "data_sheet1.write(0,1,'P')\n",
    "data_sheet1.write(0,2,'Lw')"
   ]
  },
  {
   "cell_type": "code",
   "execution_count": 22,
   "metadata": {},
   "outputs": [
    {
     "data": {
      "text/plain": [
       "0"
      ]
     },
     "execution_count": 22,
     "metadata": {},
     "output_type": "execute_result"
    }
   ],
   "source": [
    "import xlsxwriter \n",
    "\n",
    "work_book1=xlsxwriter.Workbook('test_case_pressurizer_nocontrolrod.xlsx')\n",
    "data_sheet1=work_book1.add_worksheet(\"test\")\n",
    "\n",
    "row=0\n",
    "data_sheet1.write(0,0,'T')\n",
    "data_sheet1.write(0,1,'P')\n",
    "data_sheet1.write(0,2,'Lw')\n",
    "\n",
    "work_book=xlsxwriter.Workbook('u_steam_generator_model_B_nocontrolrod.xlsx')\n",
    "data_sheet=work_book.add_worksheet(\"steam generator \")\n",
    "\n",
    "\n",
    "data_sheet.write(row,0,'T')\n",
    "data_sheet.write(row,1,'Tp1')\n",
    "data_sheet.write(row,2,'Tp2')\n",
    "data_sheet.write(row,3,'Tp3')\n",
    "data_sheet.write(row,4,'Tp4')\n",
    "data_sheet.write(row,5,'Tm1')\n",
    "data_sheet.write(row,6,'Tm2')\n",
    "data_sheet.write(row,7,'Tm3')\n",
    "data_sheet.write(row,8,'Tm4')\n",
    "data_sheet.write(row,9,'P')\n",
    "\n",
    "\n",
    "work_book2=xlsxwriter.Workbook('test_case_reactor_a_nocontrolrod.xlsx')\n",
    "data_sheet2=work_book2.add_worksheet(\"test\")\n",
    "\n",
    "\n",
    "data_sheet2.write(row,0,'T')\n",
    "data_sheet2.write(row,1,'Tf1')\n",
    "data_sheet2.write(row,2,'Tf2')\n",
    "data_sheet2.write(row,3,'Tf3')\n",
    "data_sheet2.write(row,4,'Tf4')\n",
    "data_sheet2.write(row,5,'Tf5')\n",
    "\n",
    "data_sheet2.write(row,6,'Tmo1')\n",
    "data_sheet2.write(row,7,'Tmo2')\n",
    "data_sheet2.write(row,8,'Tmo3')\n",
    "data_sheet2.write(row,9,'Tmo4')\n",
    "data_sheet2.write(row,10,'Tmo5')\n",
    "data_sheet2.write(row,11,'Tmo6')\n",
    "data_sheet2.write(row,12,'Tmo7')\n",
    "data_sheet2.write(row,13,'Tmo8')\n",
    "data_sheet2.write(row,14,'Tmo9')\n",
    "data_sheet2.write(row,15,'Tmo10')\n",
    "data_sheet2.write(row,16,'Power')\n",
    "data_sheet2.write(row,17,'Thl')\n",
    "data_sheet2.write(row,18,'Tcl')\n",
    "data_sheet2.write(row,19,'Tlp')\n",
    "data_sheet2.write(row,20,'Tup')\n",
    "data_sheet2.write(row,21,'Precursor')\n",
    "data_sheet2.write(row,22,'Reactivity')"
   ]
  },
  {
   "cell_type": "code",
   "execution_count": null,
   "metadata": {},
   "outputs": [],
   "source": []
  },
  {
   "cell_type": "code",
   "execution_count": 23,
   "metadata": {},
   "outputs": [
    {
     "name": "stdout",
     "output_type": "stream",
     "text": [
      "          #                      #       \n",
      "         ####                  ####      \n",
      "        $$$$$$                $$$$$$     \n",
      "      %%%%%%%%%%%%%%%%%%%%%%%%%%%%%%%% \n",
      "    %%%%%%%%%%%%%%%%%%%%%%%%%%%%%%%%%%%%\n",
      "   %%%%%%%%%%%%%%%%%%%%%%%%%%%%%%%%%%%%%%%\n",
      "  %%%%%%%%@@@%%%%%%%%%%%%%%%%%%@@@%%%%%%%%%\n",
      "%%%%%%%@@@@@@@@%%%%%%%%%%%%%%@@@@@@@@%%%%%%%%\n",
      "%%%%%%%%@@@@@@%%%%%%%%%%%%%%%%@@@@@@%%%%%%%%%\n",
      "%%%%%%%%%%%%%%%%%%%%%%%%%%%%%%%%%%%%%%%%%%%%%\n",
      "%%%%%%%%%%%%%%%%%%%%%%%%%%%%%%%%%%%%%%%%%%%%%\n",
      " %%%%%%%%%%%%%%%%%%%%%%%%%%%%%%%%%%%%%%%%%%%\n",
      "  %%%%%%%%%%%%%%%%%%%%%%%%%%%%%%%%%%%%%%%%\n",
      "   %%%%%%%%%%%%%%%%%%%%%%%%%%%%%%%%%%%%%%\n",
      "     %%%%%%%%%%%%%%%%%%%%%%%%%%%%%%%%%%%\n",
      "       %%%%%%%%%%%%%%%%%%%%%%%%%%%%%%% \n",
      "         %%%%%%%%%%%%%%%%%%%%%%%%%%%\n",
      "             %%%%%%%%%%%%%%%%%%%%\n",
      "                 A   Z   O   G\n",
      "    A Nuclear Power Plant Simulation code \n",
      "\n",
      "PROGRAMMER:\n",
      "EBNY WALID AHAMMED \n",
      "Undergrad Student --Level 4 term 2\n",
      "Dept of Nuclear Engineering\n",
      "University of Dhaka\n",
      "Simulation running... ... ..\n",
      "\n"
     ]
    },
    {
     "name": "stderr",
     "output_type": "stream",
     "text": [
      "  0%|          | 13/50000 [00:00<23:10, 35.94it/s]"
     ]
    },
    {
     "name": "stderr",
     "output_type": "stream",
     "text": [
      "100%|██████████| 50000/50000 [11:19<00:00, 73.55it/s] \n"
     ]
    }
   ],
   "source": [
    "Simulation_time=50\n",
    "dt=0.001\n",
    "\n",
    "row=1\n",
    "t=np.linspace(0,Simulation_time,num=int(Simulation_time/dt))\n",
    "tim=0\n",
    "logo()\n",
    "print(\"Simulation running... ... ..\\n\")\n",
    "for i in tqdm(range(len(t))):\n",
    "\n",
    "\n",
    "    PowerRatio=reactor.integrator(reactor.DPowerRatio,argsforfunction=[],intitial_cond=reactor.PowerRatio,time_step=dt)\n",
    "    Precursor=reactor.integrator(reactor.DPrecoursor,argsforfunction=[],intitial_cond=reactor.Precursor,time_step=dt)\n",
    "    #print(PowerRatio)\n",
    "\n",
    "    Tf1=reactor.integrator(reactor.DTf1,argsforfunction=[],intitial_cond=reactor.Tf1,time_step=dt)\n",
    "    Tf2=reactor.integrator(reactor.DTf2,argsforfunction=[],intitial_cond=reactor.Tf2,time_step=dt)\n",
    "    Tf3=reactor.integrator(reactor.DTf3,argsforfunction=[],intitial_cond=reactor.Tf3,time_step=dt)\n",
    "    Tf4=reactor.integrator(reactor.DTf4,argsforfunction=[],intitial_cond=reactor.Tf4,time_step=dt)\n",
    "    Tf5=reactor.integrator(reactor.DTf5,argsforfunction=[],intitial_cond=reactor.Tf5,time_step=dt)\n",
    "\n",
    "    Tmo1=reactor.integrator(reactor.DTmo1,argsforfunction=[],intitial_cond=reactor.Tmo1,time_step=dt)\n",
    "    Tmo2=reactor.integrator(reactor.DTmo2,argsforfunction=[],intitial_cond=reactor.Tmo2,time_step=dt)\n",
    "    Tmo3=reactor.integrator(reactor.DTmo3,argsforfunction=[],intitial_cond=reactor.Tmo3,time_step=dt)\n",
    "    Tmo4=reactor.integrator(reactor.DTmo4,argsforfunction=[],intitial_cond=reactor.Tmo4,time_step=dt)\n",
    "    Tmo5=reactor.integrator(reactor.DTmo5,argsforfunction=[],intitial_cond=reactor.Tmo5,time_step=dt)\n",
    "    Tmo6=reactor.integrator(reactor.DTmo6,argsforfunction=[],intitial_cond=reactor.Tmo6,time_step=dt)\n",
    "    Tmo7=reactor.integrator(reactor.DTmo7,argsforfunction=[],intitial_cond=reactor.Tmo7,time_step=dt)\n",
    "    Tmo8=reactor.integrator(reactor.DTmo8,argsforfunction=[],intitial_cond=reactor.Tmo8,time_step=dt)\n",
    "    Tmo9=reactor.integrator(reactor.DTmo9,argsforfunction=[],intitial_cond=reactor.Tmo9,time_step=dt)\n",
    "    Tmo10=reactor.integrator(reactor.DTmo10,argsforfunction=[],intitial_cond=reactor.Tmo10,time_step=dt)\n",
    "\n",
    "    Thl=reactor.integrator(reactor.DThl,argsforfunction=[],intitial_cond=reactor.Thl,time_step=dt)\n",
    "    Tcl=reactor.integrator(reactor.DTcl,argsforfunction=[UTSG.Tpo],intitial_cond=reactor.Tcl,time_step=dt)\n",
    "    Tlp=reactor.integrator(reactor.DTlp,argsforfunction=[],intitial_cond=reactor.Tlp,time_step=dt)\n",
    "    Tup=reactor.integrator(reactor.DTup,argsforfunction=[],intitial_cond=reactor.Tup,time_step=dt)\n",
    "\n",
    "    fuel_temp=Tf1+Tf2+Tf3+Tf4+Tf5\n",
    "    mod_temp=Tmo1+Tmo2+Tmo3+Tmo4+Tmo5+Tmo6+Tmo7+Tmo8+Tmo9+Tmo10\n",
    "\n",
    "    reactor.Reactivity(FuelTempSum=fuel_temp,ModeratorTempSum=mod_temp)\n",
    "\n",
    "    modarray=[reactor.DTcl(UTSG.Tpo),reactor.DTlp(),reactor.DTmo1(),reactor.DTmo2(),reactor.DTmo3(),reactor.DTmo4(),reactor.DTmo5(),reactor.DTmo6(),reactor.DTmo7(),reactor.DTmo8(),reactor.DTmo9(),reactor.DTmo10(),reactor.DTup(),reactor.DThl()]\n",
    "\n",
    "    pressurizer.Pressure=pressurizer.integrator(pressurizer.DPp,argsforfunction=[modarray,reactor.Tcl],intitial_cond=pressurizer.Pressure,time_step=dt)\n",
    "    pressurizer.l_w=pressurizer.integrator(pressurizer.Dlw,argsforfunction=[modarray,reactor.Tcl],intitial_cond=pressurizer.l_w,time_step=dt)\n",
    "\n",
    "\n",
    "    Tpi=UTSG.integrator(UTSG.DTpi,argsforfunction=[reactor.Thl],intitial_cond=UTSG.Tpi,time_step=dt)\n",
    "    Tpo=UTSG.integrator(UTSG.DTpo,argsforfunction=[],intitial_cond=UTSG.Tpo,time_step=dt)\n",
    "\n",
    "    L_w=UTSG.integrator(UTSG.DLs1,argsforfunction=[],intitial_cond=UTSG.L_w,time_step=dt)\n",
    "    \n",
    "    Tp1=UTSG.integrator(UTSG.DTp1,argsforfunction=[],intitial_cond=UTSG.Tp1,time_step=dt)\n",
    "    Tp2=UTSG.integrator(UTSG.DTp2,argsforfunction=[],intitial_cond=UTSG.Tp2,time_step=dt)\n",
    "    Tp3=UTSG.integrator(UTSG.DTp3,argsforfunction=[],intitial_cond=UTSG.Tp3,time_step=dt)\n",
    "    Tp4=UTSG.integrator(UTSG.DTp4,argsforfunction=[],intitial_cond=UTSG.Tp4,time_step=dt)\n",
    "\n",
    "    Tm1=UTSG.integrator(UTSG.DTm1,argsforfunction=[],intitial_cond=UTSG.Tm1,time_step=dt)\n",
    "    Tm2=UTSG.integrator(UTSG.DTm2,argsforfunction=[],intitial_cond=UTSG.Tm2,time_step=dt)\n",
    "    Tm3=UTSG.integrator(UTSG.DTm3,argsforfunction=[],intitial_cond=UTSG.Tm3,time_step=dt)\n",
    "    Tm4=UTSG.integrator(UTSG.DTm4,argsforfunction=[],intitial_cond=UTSG.Tm4,time_step=dt)\n",
    "    #P=UTSG.integrator(UTSG.DPs,argsforfunction=[],intitial_cond=UTSG.Pressure_s,time_step=dt)\n",
    "\n",
    "\n",
    "    reactor.PowerRatio=PowerRatio\n",
    "    reactor.Precursor=Precursor\n",
    "    reactor.Tf1=Tf1\n",
    "    reactor.Tf2=Tf2\n",
    "    reactor.Tf3=Tf3\n",
    "    reactor.Tf4=Tf4\n",
    "    reactor.Tf5=Tf5\n",
    "    \n",
    "    reactor.Tmo1=Tmo1\n",
    "    reactor.Tmo2=Tmo2\n",
    "    reactor.Tmo3=Tmo3\n",
    "    reactor.Tmo4=Tmo4\n",
    "    reactor.Tmo5=Tmo5\n",
    "    reactor.Tmo6=Tmo6\n",
    "    reactor.Tmo7=Tmo7\n",
    "    reactor.Tmo8=Tmo8\n",
    "    reactor.Tmo9=Tmo9\n",
    "    reactor.Tmo10=Tmo10\n",
    "\n",
    "    reactor.Thl=Thl\n",
    "    reactor.Tup=Tup\n",
    "    reactor.Tlp=Tcl\n",
    "    reactor.Tcl=Tcl\n",
    "\n",
    "\n",
    "    UTSG.Tpi=Tpi\n",
    "    UTSG.Tpo=Tpo\n",
    "    UTSG.Tp1=Tp1\n",
    "    UTSG.Tp2=Tp2\n",
    "    UTSG.Tp3=Tp3\n",
    "    UTSG.Tp4=Tp4\n",
    "\n",
    "    UTSG.Tm1=Tm1\n",
    "    UTSG.Tm2=Tm2\n",
    "    UTSG.Tm3=Tm3\n",
    "    UTSG.Tm4=Tm4\n",
    "\n",
    "    #UTSG.Pressure_s=P\n",
    "    \n",
    "    if (i%100)==0:\n",
    "        data_sheet2.write(row,0,t[i])\n",
    "        \n",
    "        data_sheet2.write(row,1,Tf1)\n",
    "        data_sheet2.write(row,2,Tf2)\n",
    "        data_sheet2.write(row,3,Tf3)\n",
    "        data_sheet2.write(row,4,Tf4)\n",
    "        data_sheet2.write(row,5,Tf5)\n",
    "\n",
    "        data_sheet2.write(row,6,Tmo1)\n",
    "        data_sheet2.write(row,7,Tmo2)\n",
    "        data_sheet2.write(row,8,Tmo3)\n",
    "        data_sheet2.write(row,9,Tmo4)\n",
    "        data_sheet2.write(row,10,Tmo5)\n",
    "        data_sheet2.write(row,11,Tmo6)\n",
    "        data_sheet2.write(row,12,Tmo7)\n",
    "        data_sheet2.write(row,13,Tmo8)\n",
    "        data_sheet2.write(row,14,Tmo9)\n",
    "        data_sheet2.write(row,15,Tmo10)\n",
    "        data_sheet2.write(row,16,reactor.PowerRatio)\n",
    "        data_sheet2.write(row,17,Thl)\n",
    "        data_sheet2.write(row,18,Tcl)\n",
    "        data_sheet2.write(row,19,Tlp)\n",
    "        data_sheet2.write(row,20,Tup)\n",
    "        data_sheet2.write(row,21,reactor.Precursor)\n",
    "        data_sheet2.write(row,22,reactor.reactivity)\n",
    "\n",
    "        data_sheet1.write(row,0,t[i])\n",
    "        data_sheet1.write(row,1,pressurizer.Pressure)\n",
    "        data_sheet1.write(row,2,pressurizer.l_w)\n",
    "\n",
    "        data_sheet.write(row,0,t[i])\n",
    "        data_sheet.write(row,1,Tp1)\n",
    "        data_sheet.write(row,2,Tp2)\n",
    "        data_sheet.write(row,3,Tp3)\n",
    "        data_sheet.write(row,4,Tp4)\n",
    "        data_sheet.write(row,5,Tm1)\n",
    "        data_sheet.write(row,6,Tm2)\n",
    "        data_sheet.write(row,7,Tm3)\n",
    "        data_sheet.write(row,8,Tm4)\n",
    "        #data_sheet.write(row,9,P)\n",
    "        row=row+1\n",
    "\n",
    "    tim=tim+dt\n",
    "work_book.close()\n",
    "work_book1.close()\n",
    "work_book2.close()"
   ]
  },
  {
   "cell_type": "code",
   "execution_count": 24,
   "metadata": {},
   "outputs": [
    {
     "data": {
      "text/plain": [
       "768.5559367791736"
      ]
     },
     "execution_count": 24,
     "metadata": {},
     "output_type": "execute_result"
    }
   ],
   "source": [
    "reactor.Thl"
   ]
  },
  {
   "cell_type": "code",
   "execution_count": null,
   "metadata": {},
   "outputs": [],
   "source": []
  }
 ],
 "metadata": {
  "kernelspec": {
   "display_name": "Python 3",
   "language": "python",
   "name": "python3"
  },
  "language_info": {
   "codemirror_mode": {
    "name": "ipython",
    "version": 3
   },
   "file_extension": ".py",
   "mimetype": "text/x-python",
   "name": "python",
   "nbconvert_exporter": "python",
   "pygments_lexer": "ipython3",
   "version": "3.10.12"
  }
 },
 "nbformat": 4,
 "nbformat_minor": 2
}
